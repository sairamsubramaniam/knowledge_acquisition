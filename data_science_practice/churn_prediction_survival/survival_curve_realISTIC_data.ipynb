{
 "cells": [
  {
   "cell_type": "code",
   "execution_count": 9,
   "metadata": {},
   "outputs": [],
   "source": [
    "import os\n",
    "\n",
    "import lifelines\n",
    "import matplotlib.pyplot as plt\n",
    "import pandas as pd\n",
    "import sqlalchemy\n",
    "\n",
    "%matplotlib inline"
   ]
  },
  {
   "cell_type": "markdown",
   "metadata": {},
   "source": [
    "### Randomly sample 1 lakh data points from db"
   ]
  },
  {
   "cell_type": "code",
   "execution_count": 7,
   "metadata": {},
   "outputs": [],
   "source": [
    "engine = sqlalchemy.create_engine(os.environ[\"db_url\"])\n",
    "conn = engine.connect()\n",
    "query = \"\"\"SELECT \n",
    "                customer_id, \n",
    "                datediff(last_transaction_time, first_transaction_time) as survived,\n",
    "                1 as event_observed\n",
    "           FROM db_name.customers\n",
    "           WHERE transactions > 0\n",
    "           ORDER BY RAND()\n",
    "           LIMIT 100000;\"\"\"\n",
    "df = pd.read_sql(sql=query, con=conn)"
   ]
  },
  {
   "cell_type": "markdown",
   "metadata": {},
   "source": [
    "### Create survival plot"
   ]
  },
  {
   "cell_type": "code",
   "execution_count": 11,
   "metadata": {},
   "outputs": [
    {
     "data": {
      "image/png": "[encoded data removed]",
      "text/plain": [
       "<Figure size 432x288 with 1 Axes>"
      ]
     },
     "metadata": {
      "needs_background": "light"
     },
     "output_type": "display_data"
    }
   ],
   "source": [
    "kmf = lifelines.KaplanMeierFitter()\n",
    "kmf.fit(df[\"survived\"], event_observed=df[\"event_observed\"])\n",
    "\n",
    "kmf.survival_function_.plot()\n",
    "plt.title('Survival function Uphar Darshini Hotel Customers');"
   ]
  },
  {
   "cell_type": "code",
   "execution_count": 13,
   "metadata": {},
   "outputs": [
    {
     "data": {
      "text/plain": [
       "{'alpha': 0.05,\n",
       " '_class_name': 'KaplanMeierFitter',\n",
       " '_label': 'KM_estimate',\n",
       " '_censoring_type': 3,\n",
       " 'durations': array([ 0,  0,  0, ..., 82,  0,  0]),\n",
       " 'event_observed': array([1, 1, 1, ..., 1, 1, 1]),\n",
       " 'timeline': array([0.000e+00, 1.000e+00, 2.000e+00, ..., 1.447e+03, 1.456e+03,\n",
       "        1.486e+03]),\n",
       " 'entry': None,\n",
       " 'event_table':           removed  observed  censored  entrance  at_risk\n",
       " event_at                                                \n",
       " 0           80771     80771         0    100000   100000\n",
       " 1            1164      1164         0         0    19229\n",
       " 2             698       698         0         0    18065\n",
       " 3             508       508         0         0    17367\n",
       " 4             390       390         0         0    16859\n",
       " ...           ...       ...       ...       ...      ...\n",
       " 1437            1         1         0         0        5\n",
       " 1441            1         1         0         0        4\n",
       " 1447            1         1         0         0        3\n",
       " 1456            1         1         0         0        2\n",
       " 1486            1         1         0         0        1\n",
       " \n",
       " [1300 rows x 5 columns],\n",
       " 'weights': array([1., 1., 1., ..., 1., 1., 1.]),\n",
       " 'survival_function_':           KM_estimate\n",
       " timeline             \n",
       " 0.0           0.19229\n",
       " 1.0           0.18065\n",
       " 2.0           0.17367\n",
       " 3.0           0.16859\n",
       " 4.0           0.16469\n",
       " ...               ...\n",
       " 1437.0        0.00004\n",
       " 1441.0        0.00003\n",
       " 1447.0        0.00002\n",
       " 1456.0        0.00001\n",
       " 1486.0        0.00000\n",
       " \n",
       " [1300 rows x 1 columns],\n",
       " 'cumulative_density_':           KM_estimate\n",
       " timeline             \n",
       " 0.0           0.80771\n",
       " 1.0           0.81935\n",
       " 2.0           0.82633\n",
       " 3.0           0.83141\n",
       " 4.0           0.83531\n",
       " ...               ...\n",
       " 1437.0        0.99996\n",
       " 1441.0        0.99997\n",
       " 1447.0        0.99998\n",
       " 1456.0        0.99999\n",
       " 1486.0        1.00000\n",
       " \n",
       " [1300 rows x 1 columns],\n",
       " '_KaplanMeierFitter__estimate':           KM_estimate\n",
       " timeline             \n",
       " 0.0           0.19229\n",
       " 1.0           0.18065\n",
       " 2.0           0.17367\n",
       " 3.0           0.16859\n",
       " 4.0           0.16469\n",
       " ...               ...\n",
       " 1437.0        0.00004\n",
       " 1441.0        0.00003\n",
       " 1447.0        0.00002\n",
       " 1456.0        0.00001\n",
       " 1486.0        0.00000\n",
       " \n",
       " [1300 rows x 1 columns],\n",
       " 'confidence_interval_':         KM_estimate_lower_0.95  KM_estimate_upper_0.95\n",
       " 0.0                   0.189854                0.194739\n",
       " 1.0                   0.178272                0.183041\n",
       " 2.0                   0.171329                0.176025\n",
       " 3.0                   0.166277                0.170917\n",
       " 4.0                   0.162398                0.166996\n",
       " ...                        ...                     ...\n",
       " 1437.0                0.000014                0.000102\n",
       " 1441.0                0.000009                0.000088\n",
       " 1447.0                0.000005                0.000073\n",
       " 1456.0                0.000001                0.000061\n",
       " 1486.0                0.000000                0.000000\n",
       " \n",
       " [1300 rows x 2 columns],\n",
       " '_median': 0.0,\n",
       " 'percentile': functools.partial(<function qth_survival_time at 0x7fb12093d378>, model_or_survival_function=          KM_estimate\n",
       " timeline             \n",
       " 0.0           0.19229\n",
       " 1.0           0.18065\n",
       " 2.0           0.17367\n",
       " 3.0           0.16859\n",
       " 4.0           0.16469\n",
       " ...               ...\n",
       " 1437.0        0.00004\n",
       " 1441.0        0.00003\n",
       " 1447.0        0.00002\n",
       " 1456.0        0.00001\n",
       " 1486.0        0.00000\n",
       " \n",
       " [1300 rows x 1 columns]),\n",
       " '_cumulative_sq_': timeline\n",
       " 0.0       0.000042\n",
       " 1.0       0.000045\n",
       " 2.0       0.000048\n",
       " 3.0       0.000049\n",
       " 4.0       0.000051\n",
       "             ...   \n",
       " 1437.0    0.249990\n",
       " 1441.0    0.333323\n",
       " 1447.0    0.499990\n",
       " 1456.0    0.999990\n",
       " 1486.0    0.999990\n",
       " Length: 1300, dtype: float64,\n",
       " 'confidence_interval_survival_function_':         KM_estimate_lower_0.95  KM_estimate_upper_0.95\n",
       " 0.0                   0.189854                0.194739\n",
       " 1.0                   0.178272                0.183041\n",
       " 2.0                   0.171329                0.176025\n",
       " 3.0                   0.166277                0.170917\n",
       " 4.0                   0.162398                0.166996\n",
       " ...                        ...                     ...\n",
       " 1437.0                0.000014                0.000102\n",
       " 1441.0                0.000009                0.000088\n",
       " 1447.0                0.000005                0.000073\n",
       " 1456.0                0.000001                0.000061\n",
       " 1486.0                0.000000                0.000000\n",
       " \n",
       " [1300 rows x 2 columns],\n",
       " 'confidence_interval_cumulative_density_':         KM_estimate_lower_0.95  KM_estimate_upper_0.95\n",
       " 0.0                   0.810146                0.805261\n",
       " 1.0                   0.821728                0.816959\n",
       " 2.0                   0.828671                0.823975\n",
       " 3.0                   0.833723                0.829083\n",
       " 4.0                   0.837602                0.833004\n",
       " ...                        ...                     ...\n",
       " 1437.0                0.999986                0.999898\n",
       " 1441.0                0.999991                0.999912\n",
       " 1447.0                0.999995                0.999927\n",
       " 1456.0                0.999999                0.999939\n",
       " 1486.0                1.000000                1.000000\n",
       " \n",
       " [1300 rows x 2 columns],\n",
       " '_estimation_method': 'survival_function_',\n",
       " '_estimate_name': 'survival_function_'}"
      ]
     },
     "execution_count": 13,
     "metadata": {},
     "output_type": "execute_result"
    }
   ],
   "source": [
    "kmf.__dict__"
   ]
  },
  {
   "cell_type": "code",
   "execution_count": null,
   "metadata": {},
   "outputs": [],
   "source": []
  }
 ],
 "metadata": {
  "kernelspec": {
   "display_name": "Python 3",
   "language": "python",
   "name": "python3"
  },
  "language_info": {
   "codemirror_mode": {
    "name": "ipython",
    "version": 3
   },
   "file_extension": ".py",
   "mimetype": "text/x-python",
   "name": "python",
   "nbconvert_exporter": "python",
   "pygments_lexer": "ipython3",
   "version": "3.8.5"
  }
 },
 "nbformat": 4,
 "nbformat_minor": 4
}
