{
  "nbformat": 4,
  "nbformat_minor": 0,
  "metadata": {
    "colab": {
      "name": "Final_EVA_Assignment4_1st DNN9934.ipynb",
      "version": "0.3.2",
      "provenance": [],
      "collapsed_sections": []
    },
    "kernelspec": {
      "name": "python3",
      "display_name": "Python 3"
    },
    "accelerator": "GPU"
  },
  "cells": [
    {
      "cell_type": "markdown",
      "metadata": {
        "id": "aNyZv-Ec52ot",
        "colab_type": "text"
      },
      "source": [
        "# **Assignment 3**"
      ]
    },
    {
      "cell_type": "markdown",
      "metadata": {
        "id": "9TNAPF9Gshdj",
        "colab_type": "text"
      },
      "source": [
        "**Different architectures tried out by me. The highest I could achieve below 20k params was the one with 99.34% accuracy**\n",
        "\n",
        "Architecture | Dropout Param | Epochs | Batch Size | Train  accuracy | Val accuracy | Other Comments\n",
        "--- | ---: | ---: | ---: | ---: | ---: | :---: |\n",
        "8,8,32,dropout,transition,8,26,dropout,10 | 0.5 | 30 | 96 | 99.38 | 99.39 | Params ~ 22k\n",
        "8,8,16,32,dropout,transition,8,14,30,dropout,10 | 0.2 | 30 | 128 | 99.18 | 99.37 | Params ~ 22k\n",
        "**8,8,32,dropout,transition,8,8,32,dropout,10** | **0.5** | **30** | **128** | **98.99** | **99.34** | **_SUBMITTED_**\n",
        "8,8,32,dropout,transition,8,26,dropout,10 | 0.5 | 30 | 64 | 99.11 | 99.32 | NA\n",
        "8,8,32,dropout,transition,8,26,dropout,10 | 0.4 | 30 | 64 | 99.4 | 99.31 | NA\n",
        "8,8,16,32,dropout,transition,8,14,30,dropout,10 | 0.3 | 30 | 128 | 99.28 | 99.31 | NA\n",
        "8,8,32,dropout,transition,8,26,dropout,10 | 0.5 | 30 | 128 | 99.5 | 99.26 | NA\n",
        "8,8,32,dropout,transition,8,8,26,dropout,10 | 0.5 | 30 | 128 | 98.96 | 99.25 | NA\n",
        "8,16,32,dropout,transition,8,16,dropout,10 | 0.2 | 30 | 32 | 99.51 | 99.22 | NA\n",
        "8,8,32,dropout,transition,8,26,dropout,10 | 0.3 | 30 | 64 | 99.48 | 99.2 | NA\n",
        "8,16,32,dropout,transition,8,16,dropout,10 | 0.2 | 50 | 32 | 99.67 | 99.19 | NA\n",
        "8,16,32,dropout,transition,8,16,dropout,10 | 0.5 | 30 | 64 | 99.35 | 99.17 | NA\n",
        "8,16,32,dropout,transition,8,16,dropout,10 | 0.5 | 30 | 32 | 99.11 | 99.17 | NA\n",
        "8,16,32,dropout,transition,8,16,dropout,10 | 0.5 | 30 | 32 | 98.91 | 99.09 | NA\n",
        "8,16,32,dropout,transition,8,16,dropout,10 | 0.2 | 30 | 64 | 99.5 | 99.06 | NA\n",
        "8,8,16,32,dropout,transition,8,14,30,dropout,10 | 0.5 | 30 | 128 | 99 | 99.03 | NA\n",
        "8,16,32,transition,8,16,10 | NA | 10 | 32 | 99.49 | 99.01 | NA\n",
        "8,8,8,32,dropout,transition,8,8,32,dropout,10 | 0.5 | 30 | 128 | 98.94 | 98.93 | NA\n",
        "8,8,16,32,dropout,transition,8,8,32,dropout,10 | 0.5 | 30 | 128 | 98.97 | 98.89 | NA\n",
        "8,8,16,32,transition,8,14,30,10 | NA | 20 | 128 | 99.52 | 98.89 | NA\n",
        "8,16,32,transition,8,16,10 | NA | 20 | 32 | 99.8 | 98.84 | NA\n",
        "8,16,32,transition,8,16,10 | NA | 30 | 32 | 99.81 | 98.8 | NA\n",
        "8,8,16,32,dropout,transition,8,14,30,dropout,10 | 0.1 | 20 | 128 | 99.35 | 98.23 | NA\n",
        "8,8,16,32,dropout,transition,8,14,30,dropout,10 | 0.15 | 20 | 128 | 99.35 | 98.23 | NA"
      ]
    },
    {
      "cell_type": "markdown",
      "metadata": {
        "id": "8dd1MswcsxGj",
        "colab_type": "text"
      },
      "source": [
        "## Install Keras"
      ]
    },
    {
      "cell_type": "code",
      "metadata": {
        "id": "3m3w1Cw49Zkt",
        "colab_type": "code",
        "colab": {
          "base_uri": "https://localhost:8080/",
          "height": 34
        },
        "outputId": "d00ca50c-d768-4b01-b6c0-d3bc7d75a494"
      },
      "source": [
        "# https://keras.io/\n",
        "!pip install -q keras\n",
        "import keras"
      ],
      "execution_count": 1,
      "outputs": [
        {
          "output_type": "stream",
          "text": [
            "Using TensorFlow backend.\n"
          ],
          "name": "stderr"
        }
      ]
    },
    {
      "cell_type": "markdown",
      "metadata": {
        "id": "J3Hy4q_VswMv",
        "colab_type": "text"
      },
      "source": [
        "## Import the required keras and numpy libraries"
      ]
    },
    {
      "cell_type": "code",
      "metadata": {
        "id": "Eso6UHE080D4",
        "colab_type": "code",
        "colab": {}
      },
      "source": [
        "import numpy as np\n",
        "\n",
        "from keras.models import Sequential\n",
        "from keras.layers import Dense, Dropout, Activation, Flatten, Add\n",
        "from keras.layers import Convolution2D, MaxPooling2D\n",
        "from keras.utils import np_utils\n",
        "\n",
        "from keras.datasets import mnist"
      ],
      "execution_count": 0,
      "outputs": []
    },
    {
      "cell_type": "markdown",
      "metadata": {
        "id": "zByEi95J86RD",
        "colab_type": "text"
      },
      "source": [
        "### Load pre-shuffled MNIST data into train and test sets"
      ]
    },
    {
      "cell_type": "code",
      "metadata": {
        "id": "7eRM0QWN83PV",
        "colab_type": "code",
        "colab": {}
      },
      "source": [
        "(X_train, y_train), (X_test, y_test) = mnist.load_data()"
      ],
      "execution_count": 0,
      "outputs": []
    },
    {
      "cell_type": "code",
      "metadata": {
        "id": "4a4Be72j8-ZC",
        "colab_type": "code",
        "outputId": "e00caea3-2705-452a-f396-af393b80fbc6",
        "colab": {
          "base_uri": "https://localhost:8080/",
          "height": 304
        }
      },
      "source": [
        "print (X_train.shape)\n",
        "from matplotlib import pyplot as plt\n",
        "%matplotlib inline\n",
        "plt.imshow(X_train[15])"
      ],
      "execution_count": 4,
      "outputs": [
        {
          "output_type": "stream",
          "text": [
            "(60000, 28, 28)\n"
          ],
          "name": "stdout"
        },
        {
          "output_type": "execute_result",
          "data": {
            "text/plain": [
              "<matplotlib.image.AxesImage at 0x7fb7bd2998d0>"
            ]
          },
          "metadata": {
            "tags": []
          },
          "execution_count": 4
        },
        {
          "output_type": "display_data",
          "data": {
            "image/png": "[encoded data removed]",
            "text/plain": [
              "<Figure size 432x288 with 1 Axes>"
            ]
          },
          "metadata": {
            "tags": []
          }
        }
      ]
    },
    {
      "cell_type": "code",
      "metadata": {
        "id": "dkmprriw9AnZ",
        "colab_type": "code",
        "colab": {}
      },
      "source": [
        "X_train = X_train.reshape(X_train.shape[0], 28, 28,1)\n",
        "X_test = X_test.reshape(X_test.shape[0], 28, 28,1)"
      ],
      "execution_count": 0,
      "outputs": []
    },
    {
      "cell_type": "code",
      "metadata": {
        "id": "X2m4YS4E9CRh",
        "colab_type": "code",
        "colab": {}
      },
      "source": [
        "X_train = X_train.astype('float32')\n",
        "X_test = X_test.astype('float32')\n",
        "X_train /= 255\n",
        "X_test /= 255"
      ],
      "execution_count": 0,
      "outputs": []
    },
    {
      "cell_type": "code",
      "metadata": {
        "id": "0Mn0vAYD9DvB",
        "colab_type": "code",
        "outputId": "0f00d490-ca39-4523-b0cc-63308563de4c",
        "colab": {
          "base_uri": "https://localhost:8080/",
          "height": 34
        }
      },
      "source": [
        "y_train[:10]"
      ],
      "execution_count": 7,
      "outputs": [
        {
          "output_type": "execute_result",
          "data": {
            "text/plain": [
              "array([5, 0, 4, 1, 9, 2, 1, 3, 1, 4], dtype=uint8)"
            ]
          },
          "metadata": {
            "tags": []
          },
          "execution_count": 7
        }
      ]
    },
    {
      "cell_type": "code",
      "metadata": {
        "id": "ZG8JiXR39FHC",
        "colab_type": "code",
        "colab": {}
      },
      "source": [
        "# Convert 1-dimensional class arrays to 10-dimensional class matrices\n",
        "Y_train = np_utils.to_categorical(y_train, 10)\n",
        "Y_test = np_utils.to_categorical(y_test, 10)"
      ],
      "execution_count": 0,
      "outputs": []
    },
    {
      "cell_type": "code",
      "metadata": {
        "id": "fYlFRvKS9HMB",
        "colab_type": "code",
        "outputId": "2d0da489-a120-486f-8479-30fcb6e20bf1",
        "colab": {
          "base_uri": "https://localhost:8080/",
          "height": 191
        }
      },
      "source": [
        "Y_train[:10]\n"
      ],
      "execution_count": 9,
      "outputs": [
        {
          "output_type": "execute_result",
          "data": {
            "text/plain": [
              "array([[0., 0., 0., 0., 0., 1., 0., 0., 0., 0.],\n",
              "       [1., 0., 0., 0., 0., 0., 0., 0., 0., 0.],\n",
              "       [0., 0., 0., 0., 1., 0., 0., 0., 0., 0.],\n",
              "       [0., 1., 0., 0., 0., 0., 0., 0., 0., 0.],\n",
              "       [0., 0., 0., 0., 0., 0., 0., 0., 0., 1.],\n",
              "       [0., 0., 1., 0., 0., 0., 0., 0., 0., 0.],\n",
              "       [0., 1., 0., 0., 0., 0., 0., 0., 0., 0.],\n",
              "       [0., 0., 0., 1., 0., 0., 0., 0., 0., 0.],\n",
              "       [0., 1., 0., 0., 0., 0., 0., 0., 0., 0.],\n",
              "       [0., 0., 0., 0., 1., 0., 0., 0., 0., 0.]], dtype=float32)"
            ]
          },
          "metadata": {
            "tags": []
          },
          "execution_count": 9
        }
      ]
    },
    {
      "cell_type": "markdown",
      "metadata": {
        "id": "mQTZU-t7rafU",
        "colab_type": "text"
      },
      "source": [
        "## Why does the network look like this:\n",
        "* For a 28x28 image input, third layer achieves edges and gradients (as seen at the end)\n",
        "* The transition layer of 1x1 and MaxPool is present after the 3rd layer\n",
        "* The third layer is also when we have more kernels\n",
        "* Due to constraints on trainable parameters, the previous layers have only 8 kernels\n",
        "* Training accuracy was high compared to val acc adn therefore dropout was used, which increased accuracy"
      ]
    },
    {
      "cell_type": "code",
      "metadata": {
        "id": "osKqT73Q9JJB",
        "colab_type": "code",
        "outputId": "67ff0cb1-9e5b-4abe-84e6-eb7d7d0dff07",
        "colab": {
          "base_uri": "https://localhost:8080/",
          "height": 245
        }
      },
      "source": [
        "from keras.layers import Activation\n",
        "model = Sequential()\n",
        "\n",
        " \n",
        "model.add(Convolution2D(8, 3, 3, activation='relu', input_shape=(28,28,1)))\n",
        "model.add(Convolution2D(8, 3, 3, activation='relu'))\n",
        "model.add(Convolution2D(32, 3, 3, activation='relu'))\n",
        "model.add(Dropout(0.5))\n",
        "model.add(Convolution2D(32, 1, activation='relu'))\n",
        "model.add(MaxPooling2D(pool_size=(2, 2)))\n",
        "model.add(Convolution2D(8, 3, activation='relu'))\n",
        "model.add(Convolution2D(8, 3, activation='relu'))\n",
        "model.add(Convolution2D(32, 3, activation='relu'))\n",
        "model.add(Dropout(0.5))\n",
        "model.add(Convolution2D(10, 5))\n",
        "model.add(Flatten())\n",
        "model.add(Activation('softmax'))"
      ],
      "execution_count": 10,
      "outputs": [
        {
          "output_type": "stream",
          "text": [
            "WARNING:tensorflow:From /usr/local/lib/python3.6/dist-packages/tensorflow/python/framework/op_def_library.py:263: colocate_with (from tensorflow.python.framework.ops) is deprecated and will be removed in a future version.\n",
            "Instructions for updating:\n",
            "Colocations handled automatically by placer.\n",
            "WARNING:tensorflow:From /usr/local/lib/python3.6/dist-packages/keras/backend/tensorflow_backend.py:3445: calling dropout (from tensorflow.python.ops.nn_ops) with keep_prob is deprecated and will be removed in a future version.\n",
            "Instructions for updating:\n",
            "Please use `rate` instead of `keep_prob`. Rate should be set to `rate = 1 - keep_prob`.\n"
          ],
          "name": "stdout"
        },
        {
          "output_type": "stream",
          "text": [
            "/usr/local/lib/python3.6/dist-packages/ipykernel_launcher.py:5: UserWarning: Update your `Conv2D` call to the Keras 2 API: `Conv2D(8, (3, 3), activation=\"relu\", input_shape=(28, 28, 1...)`\n",
            "  \"\"\"\n",
            "/usr/local/lib/python3.6/dist-packages/ipykernel_launcher.py:6: UserWarning: Update your `Conv2D` call to the Keras 2 API: `Conv2D(8, (3, 3), activation=\"relu\")`\n",
            "  \n",
            "/usr/local/lib/python3.6/dist-packages/ipykernel_launcher.py:7: UserWarning: Update your `Conv2D` call to the Keras 2 API: `Conv2D(32, (3, 3), activation=\"relu\")`\n",
            "  import sys\n"
          ],
          "name": "stderr"
        }
      ]
    },
    {
      "cell_type": "code",
      "metadata": {
        "id": "TzdAYg1k9K7Z",
        "colab_type": "code",
        "outputId": "9a400f26-9714-4874-b71b-09742a89c2f4",
        "colab": {
          "base_uri": "https://localhost:8080/",
          "height": 590
        }
      },
      "source": [
        "model.summary()"
      ],
      "execution_count": 11,
      "outputs": [
        {
          "output_type": "stream",
          "text": [
            "_________________________________________________________________\n",
            "Layer (type)                 Output Shape              Param #   \n",
            "=================================================================\n",
            "conv2d_1 (Conv2D)            (None, 26, 26, 8)         80        \n",
            "_________________________________________________________________\n",
            "conv2d_2 (Conv2D)            (None, 24, 24, 8)         584       \n",
            "_________________________________________________________________\n",
            "conv2d_3 (Conv2D)            (None, 22, 22, 32)        2336      \n",
            "_________________________________________________________________\n",
            "dropout_1 (Dropout)          (None, 22, 22, 32)        0         \n",
            "_________________________________________________________________\n",
            "conv2d_4 (Conv2D)            (None, 22, 22, 32)        1056      \n",
            "_________________________________________________________________\n",
            "max_pooling2d_1 (MaxPooling2 (None, 11, 11, 32)        0         \n",
            "_________________________________________________________________\n",
            "conv2d_5 (Conv2D)            (None, 9, 9, 8)           2312      \n",
            "_________________________________________________________________\n",
            "conv2d_6 (Conv2D)            (None, 7, 7, 8)           584       \n",
            "_________________________________________________________________\n",
            "conv2d_7 (Conv2D)            (None, 5, 5, 32)          2336      \n",
            "_________________________________________________________________\n",
            "dropout_2 (Dropout)          (None, 5, 5, 32)          0         \n",
            "_________________________________________________________________\n",
            "conv2d_8 (Conv2D)            (None, 1, 1, 10)          8010      \n",
            "_________________________________________________________________\n",
            "flatten_1 (Flatten)          (None, 10)                0         \n",
            "_________________________________________________________________\n",
            "activation_1 (Activation)    (None, 10)                0         \n",
            "=================================================================\n",
            "Total params: 17,298\n",
            "Trainable params: 17,298\n",
            "Non-trainable params: 0\n",
            "_________________________________________________________________\n"
          ],
          "name": "stdout"
        }
      ]
    },
    {
      "cell_type": "code",
      "metadata": {
        "id": "Zp6SuGrL9M3h",
        "colab_type": "code",
        "colab": {}
      },
      "source": [
        "model.compile(loss='categorical_crossentropy',\n",
        "             optimizer='adam',\n",
        "             metrics=['accuracy'])"
      ],
      "execution_count": 0,
      "outputs": []
    },
    {
      "cell_type": "code",
      "metadata": {
        "id": "4xWoKhPY9Of5",
        "colab_type": "code",
        "outputId": "913f177e-35be-4b64-edd8-eb661000821a",
        "colab": {
          "base_uri": "https://localhost:8080/",
          "height": 1183
        }
      },
      "source": [
        "model.fit(X_train, Y_train, batch_size=128, nb_epoch=30, verbose=1)"
      ],
      "execution_count": 13,
      "outputs": [
        {
          "output_type": "stream",
          "text": [
            "WARNING:tensorflow:From /usr/local/lib/python3.6/dist-packages/tensorflow/python/ops/math_ops.py:3066: to_int32 (from tensorflow.python.ops.math_ops) is deprecated and will be removed in a future version.\n",
            "Instructions for updating:\n",
            "Use tf.cast instead.\n"
          ],
          "name": "stdout"
        },
        {
          "output_type": "stream",
          "text": [
            "/usr/local/lib/python3.6/dist-packages/ipykernel_launcher.py:1: UserWarning: The `nb_epoch` argument in `fit` has been renamed `epochs`.\n",
            "  \"\"\"Entry point for launching an IPython kernel.\n"
          ],
          "name": "stderr"
        },
        {
          "output_type": "stream",
          "text": [
            "Epoch 1/30\n",
            "60000/60000 [==============================] - 6s 103us/step - loss: 0.4478 - acc: 0.8564\n",
            "Epoch 2/30\n",
            "60000/60000 [==============================] - 4s 62us/step - loss: 0.1566 - acc: 0.9514\n",
            "Epoch 3/30\n",
            "60000/60000 [==============================] - 4s 63us/step - loss: 0.1170 - acc: 0.9643\n",
            "Epoch 4/30\n",
            "60000/60000 [==============================] - 4s 63us/step - loss: 0.0981 - acc: 0.9697\n",
            "Epoch 5/30\n",
            "60000/60000 [==============================] - 4s 63us/step - loss: 0.0847 - acc: 0.9742\n",
            "Epoch 6/30\n",
            "60000/60000 [==============================] - 4s 63us/step - loss: 0.0780 - acc: 0.9760\n",
            "Epoch 7/30\n",
            "60000/60000 [==============================] - 4s 63us/step - loss: 0.0683 - acc: 0.9789\n",
            "Epoch 8/30\n",
            "60000/60000 [==============================] - 4s 63us/step - loss: 0.0672 - acc: 0.9791\n",
            "Epoch 9/30\n",
            "60000/60000 [==============================] - 4s 63us/step - loss: 0.0645 - acc: 0.9802\n",
            "Epoch 10/30\n",
            "60000/60000 [==============================] - 4s 62us/step - loss: 0.0599 - acc: 0.9814\n",
            "Epoch 11/30\n",
            "60000/60000 [==============================] - 4s 63us/step - loss: 0.0548 - acc: 0.9830\n",
            "Epoch 12/30\n",
            "60000/60000 [==============================] - 4s 65us/step - loss: 0.0519 - acc: 0.9835\n",
            "Epoch 13/30\n",
            "60000/60000 [==============================] - 4s 69us/step - loss: 0.0488 - acc: 0.9844\n",
            "Epoch 14/30\n",
            "60000/60000 [==============================] - 4s 69us/step - loss: 0.0457 - acc: 0.9856\n",
            "Epoch 15/30\n",
            "60000/60000 [==============================] - 4s 64us/step - loss: 0.0461 - acc: 0.9862\n",
            "Epoch 16/30\n",
            "60000/60000 [==============================] - 4s 62us/step - loss: 0.0438 - acc: 0.9868\n",
            "Epoch 17/30\n",
            "60000/60000 [==============================] - 4s 62us/step - loss: 0.0427 - acc: 0.9869\n",
            "Epoch 18/30\n",
            "60000/60000 [==============================] - 4s 62us/step - loss: 0.0422 - acc: 0.9865\n",
            "Epoch 19/30\n",
            "60000/60000 [==============================] - 4s 62us/step - loss: 0.0390 - acc: 0.9872\n",
            "Epoch 20/30\n",
            "60000/60000 [==============================] - 4s 62us/step - loss: 0.0390 - acc: 0.9879\n",
            "Epoch 21/30\n",
            "60000/60000 [==============================] - 4s 62us/step - loss: 0.0385 - acc: 0.9881\n",
            "Epoch 22/30\n",
            "60000/60000 [==============================] - 4s 62us/step - loss: 0.0372 - acc: 0.9882\n",
            "Epoch 23/30\n",
            "60000/60000 [==============================] - 4s 62us/step - loss: 0.0372 - acc: 0.9888\n",
            "Epoch 24/30\n",
            "60000/60000 [==============================] - 4s 62us/step - loss: 0.0360 - acc: 0.9888\n",
            "Epoch 25/30\n",
            "60000/60000 [==============================] - 4s 62us/step - loss: 0.0342 - acc: 0.9894\n",
            "Epoch 26/30\n",
            "60000/60000 [==============================] - 4s 62us/step - loss: 0.0336 - acc: 0.9894\n",
            "Epoch 27/30\n",
            "60000/60000 [==============================] - 4s 62us/step - loss: 0.0325 - acc: 0.9897\n",
            "Epoch 28/30\n",
            "60000/60000 [==============================] - 4s 62us/step - loss: 0.0323 - acc: 0.9898\n",
            "Epoch 29/30\n",
            "60000/60000 [==============================] - 4s 62us/step - loss: 0.0321 - acc: 0.9897\n",
            "Epoch 30/30\n",
            "60000/60000 [==============================] - 4s 62us/step - loss: 0.0327 - acc: 0.9899\n"
          ],
          "name": "stdout"
        },
        {
          "output_type": "execute_result",
          "data": {
            "text/plain": [
              "<keras.callbacks.History at 0x7fb7ba9ea908>"
            ]
          },
          "metadata": {
            "tags": []
          },
          "execution_count": 13
        }
      ]
    },
    {
      "cell_type": "code",
      "metadata": {
        "id": "AtsH-lLk-eLb",
        "colab_type": "code",
        "colab": {}
      },
      "source": [
        "score = model.evaluate(X_test, Y_test, verbose=0)"
      ],
      "execution_count": 0,
      "outputs": []
    },
    {
      "cell_type": "code",
      "metadata": {
        "id": "mkX8JMv79q9r",
        "colab_type": "code",
        "outputId": "db2bdc3e-fe01-4f1a-bbb4-26c416cfe799",
        "colab": {
          "base_uri": "https://localhost:8080/",
          "height": 34
        }
      },
      "source": [
        "print(score)"
      ],
      "execution_count": 15,
      "outputs": [
        {
          "output_type": "stream",
          "text": [
            "[0.028776171516254546, 0.9934]\n"
          ],
          "name": "stdout"
        }
      ]
    },
    {
      "cell_type": "code",
      "metadata": {
        "id": "OCWoJkwE9suh",
        "colab_type": "code",
        "colab": {}
      },
      "source": [
        "y_pred = model.predict(X_test)"
      ],
      "execution_count": 0,
      "outputs": []
    },
    {
      "cell_type": "code",
      "metadata": {
        "id": "Ym7iCFBm9uBs",
        "colab_type": "code",
        "outputId": "95231221-0f9e-4bd9-8431-afd1b2416329",
        "colab": {
          "base_uri": "https://localhost:8080/",
          "height": 503
        }
      },
      "source": [
        "print(y_pred[:9])\n",
        "print(y_test[:9])"
      ],
      "execution_count": 17,
      "outputs": [
        {
          "output_type": "stream",
          "text": [
            "[[2.99156149e-08 5.62093533e-07 1.40223110e-05 2.86236336e-05\n",
            "  7.93991817e-10 3.54505733e-06 5.10903067e-14 9.99932408e-01\n",
            "  2.93074959e-06 1.78162954e-05]\n",
            " [1.95497778e-05 6.17125115e-05 9.99894023e-01 2.84431714e-08\n",
            "  1.42781175e-07 1.86810443e-08 2.43931008e-05 6.37749298e-10\n",
            "  1.37851899e-07 1.35040379e-09]\n",
            " [4.67365862e-05 9.93144989e-01 3.00623686e-03 2.16175904e-05\n",
            "  1.49994856e-03 1.51127460e-04 1.63547287e-04 1.64187083e-03\n",
            "  1.07128020e-04 2.16743705e-04]\n",
            " [9.79894340e-01 2.51320031e-08 5.72915160e-05 8.57622672e-06\n",
            "  7.79322454e-06 4.83072130e-04 1.90632548e-02 3.76261568e-07\n",
            "  6.12062795e-05 4.23982157e-04]\n",
            " [6.20842711e-10 2.08649154e-10 5.29203037e-09 4.35590834e-11\n",
            "  9.99367177e-01 1.15416676e-09 2.57652118e-07 3.84827743e-08\n",
            "  1.89105691e-07 6.32437645e-04]\n",
            " [4.29473293e-05 9.95247900e-01 1.63207075e-03 1.18351290e-05\n",
            "  1.22246938e-03 1.29599692e-04 7.06185383e-05 1.34934287e-03\n",
            "  9.49489986e-05 1.98215377e-04]\n",
            " [2.79912693e-14 4.77085358e-08 2.39853772e-08 5.78284904e-08\n",
            "  9.98660684e-01 7.47597397e-08 8.61796485e-12 3.90729701e-06\n",
            "  8.57559673e-04 4.77618014e-04]\n",
            " [1.63780545e-08 9.62056212e-09 2.32436594e-08 2.45353840e-06\n",
            "  4.46143211e-04 7.06017181e-06 3.46061912e-09 1.48627407e-06\n",
            "  1.12135414e-04 9.99430716e-01]\n",
            " [3.09934808e-06 1.09139441e-10 4.59105509e-09 1.98627149e-07\n",
            "  1.16265801e-06 9.24970388e-01 7.34506398e-02 8.37702185e-10\n",
            "  1.54735788e-03 2.71289791e-05]]\n",
            "[7 2 1 0 4 1 4 9 5]\n"
          ],
          "name": "stdout"
        }
      ]
    },
    {
      "cell_type": "code",
      "metadata": {
        "id": "CT--y98_dr2T",
        "colab_type": "code",
        "colab": {}
      },
      "source": [
        "layer_dict = dict([(layer.name, layer) for layer in model.layers])"
      ],
      "execution_count": 0,
      "outputs": []
    },
    {
      "cell_type": "code",
      "metadata": {
        "id": "DZu1L5sLTYWK",
        "colab_type": "code",
        "outputId": "884a7f6f-5cf4-4a09-9079-edc2078c3501",
        "colab": {
          "base_uri": "https://localhost:8080/",
          "height": 243
        }
      },
      "source": [
        "layer_dict"
      ],
      "execution_count": 19,
      "outputs": [
        {
          "output_type": "execute_result",
          "data": {
            "text/plain": [
              "{'activation_1': <keras.layers.core.Activation at 0x7fb7ba06f4a8>,\n",
              " 'conv2d_1': <keras.layers.convolutional.Conv2D at 0x7fb7bd256e48>,\n",
              " 'conv2d_2': <keras.layers.convolutional.Conv2D at 0x7fb7bd256358>,\n",
              " 'conv2d_3': <keras.layers.convolutional.Conv2D at 0x7fb7baa111d0>,\n",
              " 'conv2d_4': <keras.layers.convolutional.Conv2D at 0x7fb7ba164eb8>,\n",
              " 'conv2d_5': <keras.layers.convolutional.Conv2D at 0x7fb7ba164b70>,\n",
              " 'conv2d_6': <keras.layers.convolutional.Conv2D at 0x7fb7ba191e48>,\n",
              " 'conv2d_7': <keras.layers.convolutional.Conv2D at 0x7fb7ba0e6b00>,\n",
              " 'conv2d_8': <keras.layers.convolutional.Conv2D at 0x7fb7ba0a9b38>,\n",
              " 'dropout_1': <keras.layers.core.Dropout at 0x7fb7baa112e8>,\n",
              " 'dropout_2': <keras.layers.core.Dropout at 0x7fb7ba110b00>,\n",
              " 'flatten_1': <keras.layers.core.Flatten at 0x7fb7ba0a9f28>,\n",
              " 'max_pooling2d_1': <keras.layers.pooling.MaxPooling2D at 0x7fb7ba191a90>}"
            ]
          },
          "metadata": {
            "tags": []
          },
          "execution_count": 19
        }
      ]
    },
    {
      "cell_type": "code",
      "metadata": {
        "id": "2GY4Upv4dsUR",
        "colab_type": "code",
        "outputId": "53096aad-cbbb-46a7-9699-1575a08edf62",
        "colab": {
          "base_uri": "https://localhost:8080/",
          "height": 837
        }
      },
      "source": [
        "import numpy as np\n",
        "from matplotlib import pyplot as plt\n",
        "from keras import backend as K\n",
        "%matplotlib inline\n",
        "# util function to convert a tensor into a valid image\n",
        "def deprocess_image(x):\n",
        "    # normalize tensor: center on 0., ensure std is 0.1\n",
        "    x -= x.mean()\n",
        "    x /= (x.std() + 1e-5)\n",
        "    x *= 0.1\n",
        "\n",
        "    # clip to [0, 1]\n",
        "    x += 0.5\n",
        "    x = np.clip(x, 0, 1)\n",
        "\n",
        "    # convert to RGB array\n",
        "    x *= 255\n",
        "    #x = x.transpose((1, 2, 0))\n",
        "    x = np.clip(x, 0, 255).astype('uint8')\n",
        "    return x\n",
        "\n",
        "def vis_img_in_filter(img = np.array(X_train[2]).reshape((1, 28, 28, 1)).astype(np.float64), \n",
        "                      layer_name = 'conv2d_3'):\n",
        "    layer_output = layer_dict[layer_name].output\n",
        "    img_ascs = list()\n",
        "    for filter_index in range(layer_output.shape[3]):\n",
        "        # build a loss function that maximizes the activation\n",
        "        # of the nth filter of the layer considered\n",
        "        loss = K.mean(layer_output[:, :, :, filter_index])\n",
        "\n",
        "        # compute the gradient of the input picture wrt this loss\n",
        "        grads = K.gradients(loss, model.input)[0]\n",
        "\n",
        "        # normalization trick: we normalize the gradient\n",
        "        grads /= (K.sqrt(K.mean(K.square(grads))) + 1e-5)\n",
        "\n",
        "        # this function returns the loss and grads given the input picture\n",
        "        iterate = K.function([model.input], [loss, grads])\n",
        "\n",
        "        # step size for gradient ascent\n",
        "        step = 5.\n",
        "\n",
        "        img_asc = np.array(img)\n",
        "        # run gradient ascent for 20 steps\n",
        "        for i in range(20):\n",
        "            loss_value, grads_value = iterate([img_asc])\n",
        "            img_asc += grads_value * step\n",
        "\n",
        "        img_asc = img_asc[0]\n",
        "        img_ascs.append(deprocess_image(img_asc).reshape((28, 28)))\n",
        "        \n",
        "    if layer_output.shape[3] >= 35:\n",
        "        plot_x, plot_y = 6, 6\n",
        "    elif layer_output.shape[3] >= 23:\n",
        "        plot_x, plot_y = 4, 6\n",
        "    elif layer_output.shape[3] >= 11:\n",
        "        plot_x, plot_y = 2, 6\n",
        "    else:\n",
        "        plot_x, plot_y = 1, 2\n",
        "    fig, ax = plt.subplots(plot_x, plot_y, figsize = (12, 12))\n",
        "    ax[0, 0].imshow(img.reshape((28, 28)), cmap = 'gray')\n",
        "    ax[0, 0].set_title('Input image')\n",
        "    fig.suptitle('Input image and %s filters' % (layer_name,))\n",
        "    fig.tight_layout(pad = 0.3, rect = [0, 0, 0.9, 0.9])\n",
        "    for (x, y) in [(i, j) for i in range(plot_x) for j in range(plot_y)]:\n",
        "        if x == 0 and y == 0:\n",
        "            continue\n",
        "        ax[x, y].imshow(img_ascs[x * plot_y + y - 1], cmap = 'gray')\n",
        "        ax[x, y].set_title('filter %d' % (x * plot_y + y - 1))\n",
        "\n",
        "vis_img_in_filter()"
      ],
      "execution_count": 21,
      "outputs": [
        {
          "output_type": "display_data",
          "data": {
            "image/png": "[encoded data removed]",
            "text/plain": [
              "<Figure size 864x864 with 24 Axes>"
            ]
          },
          "metadata": {
            "tags": []
          }
        }
      ]
    },
    {
      "cell_type": "code",
      "metadata": {
        "id": "9tvptcn8dxvp",
        "colab_type": "code",
        "colab": {}
      },
      "source": [
        ""
      ],
      "execution_count": 0,
      "outputs": []
    }
  ]
}