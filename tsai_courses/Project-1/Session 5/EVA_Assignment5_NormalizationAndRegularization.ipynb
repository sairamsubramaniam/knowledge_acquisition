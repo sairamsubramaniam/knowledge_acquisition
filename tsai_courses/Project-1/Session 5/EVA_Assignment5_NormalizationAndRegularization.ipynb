{
  "nbformat": 4,
  "nbformat_minor": 0,
  "metadata": {
    "colab": {
      "name": "EVA_Assignment5_NormalizationAndRegularization.ipynb",
      "version": "0.3.2",
      "provenance": [],
      "collapsed_sections": []
    },
    "kernelspec": {
      "name": "python3",
      "display_name": "Python 3"
    },
    "accelerator": "GPU"
  },
  "cells": [
    {
      "cell_type": "markdown",
      "metadata": {
        "id": "MRFA5ydGFZ6m",
        "colab_type": "text"
      },
      "source": [
        "**ASSIGNMENT: INITIAL CHANGES**\n",
        "---\n",
        "\n",
        "**CHANGE 1: Activation After Batch Normalization**\n",
        "- Base Model: 99.47\n",
        "- Activation After Batch Normalization: 99.53 (Run1) & 99.42 (Run2)\n",
        "\n",
        "**_Result: No definitive increase_**\n",
        "\n",
        "\n",
        "**CHANGE 2: Adding L2 Regularization**\n",
        "- Base Model: 99.47\n",
        "- After Regularizatin: 98.01 (Lambda=0.01) & 98.92 (Lambda=0.001) & 99.16 (Lambda=0.0005)\n",
        "- [Last Lambda value based on this website article](https://machinelearningmastery.com/how-to-reduce-overfitting-in-deep-learning-with-weight-regularization/)\n",
        "\n",
        "**_Result: Decrease in Accuracy_** - _Possibly due to artificial increase in loss function??_\n",
        "\n",
        "\n",
        "**CHANGE 3: Image Normalization**\n",
        "- Base Model: 99.47\n",
        "- After Image Normalization: 98.35\n",
        "\n",
        "**_Result: Further Decreasse_** _BECAUSE THE NORMALIZATION OF 60K images will not be the same as 10K IMAGES ??!!_\n",
        "\n",
        "---------------------------------------------------------------------------------------------------------------------------------------------------\n",
        "\n",
        "**ASSIGNMENT: FINAL STEPS**\n",
        "---\n",
        "Misclassfied Images - Still NOT DONE"
      ]
    },
    {
      "cell_type": "code",
      "metadata": {
        "id": "0SJyVpgSxHt4",
        "colab_type": "code",
        "outputId": "d130e68b-816c-4eea-edaf-0645087a2f0c",
        "colab": {
          "base_uri": "https://localhost:8080/",
          "height": 34
        }
      },
      "source": [
        "import numpy as np\n",
        "\n",
        "from keras.models import Sequential\n",
        "from keras.layers import Dense, Dropout, Activation, Flatten, Add, BatchNormalization\n",
        "from keras.layers import Convolution2D, MaxPooling2D\n",
        "from keras.regularizers import l2\n",
        "from keras.utils import np_utils\n",
        "from keras.preprocessing.image import ImageDataGenerator\n",
        "\n",
        "from keras.datasets import mnist"
      ],
      "execution_count": 1,
      "outputs": [
        {
          "output_type": "stream",
          "text": [
            "Using TensorFlow backend.\n"
          ],
          "name": "stderr"
        }
      ]
    },
    {
      "cell_type": "code",
      "metadata": {
        "id": "YlEUplvoxKAT",
        "colab_type": "code",
        "colab": {
          "base_uri": "https://localhost:8080/",
          "height": 52
        },
        "outputId": "9a855930-0508-47e5-8d3b-92ac96a1a144"
      },
      "source": [
        "(X_train, y_train), (X_test, y_test) = mnist.load_data()\n"
      ],
      "execution_count": 2,
      "outputs": [
        {
          "output_type": "stream",
          "text": [
            "Downloading data from https://s3.amazonaws.com/img-datasets/mnist.npz\n",
            "11493376/11490434 [==============================] - 0s 0us/step\n"
          ],
          "name": "stdout"
        }
      ]
    },
    {
      "cell_type": "code",
      "metadata": {
        "id": "I6Y9Va-xxMXG",
        "colab_type": "code",
        "outputId": "68d41750-a40c-403f-8f4b-79566aa34ac5",
        "colab": {
          "base_uri": "https://localhost:8080/",
          "height": 304
        }
      },
      "source": [
        "print (X_train.shape)\n",
        "from matplotlib import pyplot as plt\n",
        "%matplotlib inline\n",
        "plt.imshow(X_train[1])"
      ],
      "execution_count": 3,
      "outputs": [
        {
          "output_type": "stream",
          "text": [
            "(60000, 28, 28)\n"
          ],
          "name": "stdout"
        },
        {
          "output_type": "execute_result",
          "data": {
            "text/plain": [
              "<matplotlib.image.AxesImage at 0x7f9bb467beb8>"
            ]
          },
          "metadata": {
            "tags": []
          },
          "execution_count": 3
        },
        {
          "output_type": "display_data",
          "data": {
            "image/png": "[encoded data removed]",
            "text/plain": [
              "<Figure size 432x288 with 1 Axes>"
            ]
          },
          "metadata": {
            "tags": []
          }
        }
      ]
    },
    {
      "cell_type": "code",
      "metadata": {
        "id": "lxDZxPhhxOgO",
        "colab_type": "code",
        "colab": {}
      },
      "source": [
        "X_train = X_train.reshape(X_train.shape[0], 28, 28,1)\n",
        "X_test = X_test.reshape(X_test.shape[0], 28, 28,1)"
      ],
      "execution_count": 0,
      "outputs": []
    },
    {
      "cell_type": "code",
      "metadata": {
        "id": "3HzMqbTnxQQW",
        "colab_type": "code",
        "colab": {}
      },
      "source": [
        "X_train = X_train.astype('float32')\n",
        "X_test = X_test.astype('float32')\n",
        "X_train /= 255\n",
        "X_test /= 255"
      ],
      "execution_count": 0,
      "outputs": []
    },
    {
      "cell_type": "code",
      "metadata": {
        "id": "7LdYiW6ixR9e",
        "colab_type": "code",
        "colab": {}
      },
      "source": [
        "y_train[:10]\n",
        "Y_train = np_utils.to_categorical(y_train, 10)\n",
        "Y_test = np_utils.to_categorical(y_test, 10)"
      ],
      "execution_count": 0,
      "outputs": []
    },
    {
      "cell_type": "code",
      "metadata": {
        "id": "rFR0F9j0xVp2",
        "colab_type": "code",
        "outputId": "c8f21c20-f1fa-4522-813a-94690d331b17",
        "colab": {
          "base_uri": "https://localhost:8080/",
          "height": 191
        }
      },
      "source": [
        "Y_train[:10]"
      ],
      "execution_count": 7,
      "outputs": [
        {
          "output_type": "execute_result",
          "data": {
            "text/plain": [
              "array([[0., 0., 0., 0., 0., 1., 0., 0., 0., 0.],\n",
              "       [1., 0., 0., 0., 0., 0., 0., 0., 0., 0.],\n",
              "       [0., 0., 0., 0., 1., 0., 0., 0., 0., 0.],\n",
              "       [0., 1., 0., 0., 0., 0., 0., 0., 0., 0.],\n",
              "       [0., 0., 0., 0., 0., 0., 0., 0., 0., 1.],\n",
              "       [0., 0., 1., 0., 0., 0., 0., 0., 0., 0.],\n",
              "       [0., 1., 0., 0., 0., 0., 0., 0., 0., 0.],\n",
              "       [0., 0., 0., 1., 0., 0., 0., 0., 0., 0.],\n",
              "       [0., 1., 0., 0., 0., 0., 0., 0., 0., 0.],\n",
              "       [0., 0., 0., 0., 1., 0., 0., 0., 0., 0.]], dtype=float32)"
            ]
          },
          "metadata": {
            "tags": []
          },
          "execution_count": 7
        }
      ]
    },
    {
      "cell_type": "code",
      "metadata": {
        "id": "mDpXf4YQxXRm",
        "colab_type": "code",
        "outputId": "bfb78e1d-751e-4be9-fa22-db61c2c4d368",
        "colab": {
          "base_uri": "https://localhost:8080/",
          "height": 1531
        }
      },
      "source": [
        "from keras.layers import Activation\n",
        "model = Sequential()\n",
        " \n",
        "model.add(Convolution2D(16, 3, 3, kernel_regularizer=l2(0.0005), input_shape=(28,28,1))) #26\n",
        "model.add(BatchNormalization())\n",
        "model.add(Activation('relu'))\n",
        "model.add(Dropout(0.1))\n",
        "\n",
        "model.add(Convolution2D(32, 3, 3, kernel_regularizer=l2(0.0005))) #24\n",
        "model.add(BatchNormalization())\n",
        "model.add(Activation('relu'))\n",
        "model.add(Dropout(0.1))\n",
        "\n",
        "model.add(Convolution2D(10, 1, 1, kernel_regularizer=l2(0.0005), activation='relu')) #22\n",
        "\n",
        "model.add(MaxPooling2D(pool_size=(2, 2)))#11\n",
        "\n",
        "model.add(Convolution2D(16, 3, 3, kernel_regularizer=l2(0.0005)))#9\n",
        "model.add(BatchNormalization())\n",
        "model.add(Activation('relu'))\n",
        "model.add(Dropout(0.1))\n",
        "\n",
        "\n",
        "model.add(Convolution2D(16, 3, 3, kernel_regularizer=l2(0.0005)))#7\n",
        "model.add(BatchNormalization())\n",
        "model.add(Activation('relu'))\n",
        "model.add(Dropout(0.1))\n",
        "\n",
        "\n",
        "model.add(Convolution2D(16, 3, 3, kernel_regularizer=l2(0.0005)))#5\n",
        "model.add(BatchNormalization())\n",
        "model.add(Activation('relu'))\n",
        "model.add(Dropout(0.1))\n",
        "\n",
        "\n",
        "model.add(Convolution2D(16, 3, 3, kernel_regularizer=l2(0.0005)))#3\n",
        "model.add(BatchNormalization())\n",
        "model.add(Activation('relu'))\n",
        "model.add(Dropout(0.1))\n",
        "\n",
        "\n",
        "model.add(Convolution2D(10, 4, 4, kernel_regularizer=l2(0.0005)))\n",
        "model.add(BatchNormalization())\n",
        "model.add(Dropout(0.1))\n",
        "\n",
        "\n",
        "model.add(Flatten())\n",
        "model.add(Activation('softmax'))\n",
        "\n",
        "\n",
        "model.summary()"
      ],
      "execution_count": 8,
      "outputs": [
        {
          "output_type": "stream",
          "text": [
            "WARNING:tensorflow:From /usr/local/lib/python3.6/dist-packages/tensorflow/python/framework/op_def_library.py:263: colocate_with (from tensorflow.python.framework.ops) is deprecated and will be removed in a future version.\n",
            "Instructions for updating:\n",
            "Colocations handled automatically by placer.\n"
          ],
          "name": "stdout"
        },
        {
          "output_type": "stream",
          "text": [
            "/usr/local/lib/python3.6/dist-packages/ipykernel_launcher.py:4: UserWarning: Update your `Conv2D` call to the Keras 2 API: `Conv2D(16, (3, 3), kernel_regularizer=<keras.reg..., input_shape=(28, 28, 1...)`\n",
            "  after removing the cwd from sys.path.\n"
          ],
          "name": "stderr"
        },
        {
          "output_type": "stream",
          "text": [
            "WARNING:tensorflow:From /usr/local/lib/python3.6/dist-packages/keras/backend/tensorflow_backend.py:3445: calling dropout (from tensorflow.python.ops.nn_ops) with keep_prob is deprecated and will be removed in a future version.\n",
            "Instructions for updating:\n",
            "Please use `rate` instead of `keep_prob`. Rate should be set to `rate = 1 - keep_prob`.\n"
          ],
          "name": "stdout"
        },
        {
          "output_type": "stream",
          "text": [
            "/usr/local/lib/python3.6/dist-packages/ipykernel_launcher.py:9: UserWarning: Update your `Conv2D` call to the Keras 2 API: `Conv2D(32, (3, 3), kernel_regularizer=<keras.reg...)`\n",
            "  if __name__ == '__main__':\n",
            "/usr/local/lib/python3.6/dist-packages/ipykernel_launcher.py:14: UserWarning: Update your `Conv2D` call to the Keras 2 API: `Conv2D(10, (1, 1), kernel_regularizer=<keras.reg..., activation=\"relu\")`\n",
            "  \n",
            "/usr/local/lib/python3.6/dist-packages/ipykernel_launcher.py:18: UserWarning: Update your `Conv2D` call to the Keras 2 API: `Conv2D(16, (3, 3), kernel_regularizer=<keras.reg...)`\n",
            "/usr/local/lib/python3.6/dist-packages/ipykernel_launcher.py:24: UserWarning: Update your `Conv2D` call to the Keras 2 API: `Conv2D(16, (3, 3), kernel_regularizer=<keras.reg...)`\n",
            "/usr/local/lib/python3.6/dist-packages/ipykernel_launcher.py:30: UserWarning: Update your `Conv2D` call to the Keras 2 API: `Conv2D(16, (3, 3), kernel_regularizer=<keras.reg...)`\n",
            "/usr/local/lib/python3.6/dist-packages/ipykernel_launcher.py:36: UserWarning: Update your `Conv2D` call to the Keras 2 API: `Conv2D(16, (3, 3), kernel_regularizer=<keras.reg...)`\n",
            "/usr/local/lib/python3.6/dist-packages/ipykernel_launcher.py:42: UserWarning: Update your `Conv2D` call to the Keras 2 API: `Conv2D(10, (4, 4), kernel_regularizer=<keras.reg...)`\n"
          ],
          "name": "stderr"
        },
        {
          "output_type": "stream",
          "text": [
            "_________________________________________________________________\n",
            "Layer (type)                 Output Shape              Param #   \n",
            "=================================================================\n",
            "conv2d_1 (Conv2D)            (None, 26, 26, 16)        160       \n",
            "_________________________________________________________________\n",
            "batch_normalization_1 (Batch (None, 26, 26, 16)        64        \n",
            "_________________________________________________________________\n",
            "activation_1 (Activation)    (None, 26, 26, 16)        0         \n",
            "_________________________________________________________________\n",
            "dropout_1 (Dropout)          (None, 26, 26, 16)        0         \n",
            "_________________________________________________________________\n",
            "conv2d_2 (Conv2D)            (None, 24, 24, 32)        4640      \n",
            "_________________________________________________________________\n",
            "batch_normalization_2 (Batch (None, 24, 24, 32)        128       \n",
            "_________________________________________________________________\n",
            "activation_2 (Activation)    (None, 24, 24, 32)        0         \n",
            "_________________________________________________________________\n",
            "dropout_2 (Dropout)          (None, 24, 24, 32)        0         \n",
            "_________________________________________________________________\n",
            "conv2d_3 (Conv2D)            (None, 24, 24, 10)        330       \n",
            "_________________________________________________________________\n",
            "max_pooling2d_1 (MaxPooling2 (None, 12, 12, 10)        0         \n",
            "_________________________________________________________________\n",
            "conv2d_4 (Conv2D)            (None, 10, 10, 16)        1456      \n",
            "_________________________________________________________________\n",
            "batch_normalization_3 (Batch (None, 10, 10, 16)        64        \n",
            "_________________________________________________________________\n",
            "activation_3 (Activation)    (None, 10, 10, 16)        0         \n",
            "_________________________________________________________________\n",
            "dropout_3 (Dropout)          (None, 10, 10, 16)        0         \n",
            "_________________________________________________________________\n",
            "conv2d_5 (Conv2D)            (None, 8, 8, 16)          2320      \n",
            "_________________________________________________________________\n",
            "batch_normalization_4 (Batch (None, 8, 8, 16)          64        \n",
            "_________________________________________________________________\n",
            "activation_4 (Activation)    (None, 8, 8, 16)          0         \n",
            "_________________________________________________________________\n",
            "dropout_4 (Dropout)          (None, 8, 8, 16)          0         \n",
            "_________________________________________________________________\n",
            "conv2d_6 (Conv2D)            (None, 6, 6, 16)          2320      \n",
            "_________________________________________________________________\n",
            "batch_normalization_5 (Batch (None, 6, 6, 16)          64        \n",
            "_________________________________________________________________\n",
            "activation_5 (Activation)    (None, 6, 6, 16)          0         \n",
            "_________________________________________________________________\n",
            "dropout_5 (Dropout)          (None, 6, 6, 16)          0         \n",
            "_________________________________________________________________\n",
            "conv2d_7 (Conv2D)            (None, 4, 4, 16)          2320      \n",
            "_________________________________________________________________\n",
            "batch_normalization_6 (Batch (None, 4, 4, 16)          64        \n",
            "_________________________________________________________________\n",
            "activation_6 (Activation)    (None, 4, 4, 16)          0         \n",
            "_________________________________________________________________\n",
            "dropout_6 (Dropout)          (None, 4, 4, 16)          0         \n",
            "_________________________________________________________________\n",
            "conv2d_8 (Conv2D)            (None, 1, 1, 10)          2570      \n",
            "_________________________________________________________________\n",
            "batch_normalization_7 (Batch (None, 1, 1, 10)          40        \n",
            "_________________________________________________________________\n",
            "dropout_7 (Dropout)          (None, 1, 1, 10)          0         \n",
            "_________________________________________________________________\n",
            "flatten_1 (Flatten)          (None, 10)                0         \n",
            "_________________________________________________________________\n",
            "activation_7 (Activation)    (None, 10)                0         \n",
            "=================================================================\n",
            "Total params: 16,604\n",
            "Trainable params: 16,360\n",
            "Non-trainable params: 244\n",
            "_________________________________________________________________\n"
          ],
          "name": "stdout"
        }
      ]
    },
    {
      "cell_type": "code",
      "metadata": {
        "id": "L2IicGJ4x3Be",
        "colab_type": "code",
        "outputId": "e4651f99-b6b3-42cd-f3b5-28a4c5403374",
        "colab": {
          "base_uri": "https://localhost:8080/",
          "height": 2885
        }
      },
      "source": [
        "from keras.optimizers import Adam\n",
        "from keras.callbacks import ModelCheckpoint, LearningRateScheduler\n",
        "def scheduler(epoch, lr):\n",
        "  return round(0.003 * 1/(1 + 0.319 * epoch), 10)\n",
        "\n",
        "checkpointfilepath = \"eva_assignment5.hdf5\"\n",
        "checkpoint = ModelCheckpoint(checkpointfilepath, monitor='val_acc', verbose=1, save_best_only=True, mode='max')\n",
        "\n",
        "model.compile(loss='categorical_crossentropy', optimizer=Adam(lr=0.003), metrics=['accuracy'])\n",
        "\n",
        "\n",
        "datagen = ImageDataGenerator(featurewise_center=True, featurewise_std_normalization=True)\n",
        "datagen.fit(X_train)\n",
        "datagen.fit(X_test)\n",
        "train_iterator = datagen.flow(X_train, Y_train, batch_size=128, shuffle=False)\n",
        "test_iterator = datagen.flow(X_test, Y_test, batch_size=128, shuffle=False)\n",
        "\n",
        "#Train Model\n",
        "model.fit_generator(train_iterator, steps_per_epoch=len(train_iterator), epochs=40, verbose=1, validation_data=(X_test, Y_test), callbacks=[checkpoint])\n",
        "\n",
        "\n",
        "\n",
        "\n",
        "#model.fit(X_train, Y_train, batch_size=128, epochs=20, verbose=1, validation_data=(X_test, Y_test), callbacks=[checkpoint])"
      ],
      "execution_count": 9,
      "outputs": [
        {
          "output_type": "stream",
          "text": [
            "WARNING:tensorflow:From /usr/local/lib/python3.6/dist-packages/tensorflow/python/ops/math_ops.py:3066: to_int32 (from tensorflow.python.ops.math_ops) is deprecated and will be removed in a future version.\n",
            "Instructions for updating:\n",
            "Use tf.cast instead.\n",
            "Epoch 1/40\n",
            "469/469 [==============================] - 12s 26ms/step - loss: 0.5832 - acc: 0.8523 - val_loss: 2.1020 - val_acc: 0.3246\n",
            "\n",
            "Epoch 00001: val_acc improved from -inf to 0.32460, saving model to eva_assignment5.hdf5\n",
            "Epoch 2/40\n",
            "469/469 [==============================] - 8s 17ms/step - loss: 0.2831 - acc: 0.9289 - val_loss: 2.0169 - val_acc: 0.3144\n",
            "\n",
            "Epoch 00002: val_acc did not improve from 0.32460\n",
            "Epoch 3/40\n",
            "469/469 [==============================] - 8s 17ms/step - loss: 0.2233 - acc: 0.9416 - val_loss: 1.2697 - val_acc: 0.5561\n",
            "\n",
            "Epoch 00003: val_acc improved from 0.32460 to 0.55610, saving model to eva_assignment5.hdf5\n",
            "Epoch 4/40\n",
            "469/469 [==============================] - 8s 17ms/step - loss: 0.1991 - acc: 0.9452 - val_loss: 1.1413 - val_acc: 0.6147\n",
            "\n",
            "Epoch 00004: val_acc improved from 0.55610 to 0.61470, saving model to eva_assignment5.hdf5\n",
            "Epoch 5/40\n",
            "469/469 [==============================] - 8s 17ms/step - loss: 0.1852 - acc: 0.9466 - val_loss: 0.6575 - val_acc: 0.7985\n",
            "\n",
            "Epoch 00005: val_acc improved from 0.61470 to 0.79850, saving model to eva_assignment5.hdf5\n",
            "Epoch 6/40\n",
            "469/469 [==============================] - 8s 17ms/step - loss: 0.1767 - acc: 0.9479 - val_loss: 0.8787 - val_acc: 0.7180\n",
            "\n",
            "Epoch 00006: val_acc did not improve from 0.79850\n",
            "Epoch 7/40\n",
            "469/469 [==============================] - 8s 17ms/step - loss: 0.1751 - acc: 0.9467 - val_loss: 0.9673 - val_acc: 0.7066\n",
            "\n",
            "Epoch 00007: val_acc did not improve from 0.79850\n",
            "Epoch 8/40\n",
            "469/469 [==============================] - 8s 16ms/step - loss: 0.1717 - acc: 0.9482 - val_loss: 0.9163 - val_acc: 0.7095\n",
            "\n",
            "Epoch 00008: val_acc did not improve from 0.79850\n",
            "Epoch 9/40\n",
            "469/469 [==============================] - 8s 17ms/step - loss: 0.1653 - acc: 0.9497 - val_loss: 1.9159 - val_acc: 0.4362\n",
            "\n",
            "Epoch 00009: val_acc did not improve from 0.79850\n",
            "Epoch 10/40\n",
            "469/469 [==============================] - 8s 17ms/step - loss: 0.1700 - acc: 0.9478 - val_loss: 0.7553 - val_acc: 0.7803\n",
            "\n",
            "Epoch 00010: val_acc did not improve from 0.79850\n",
            "Epoch 11/40\n",
            "469/469 [==============================] - 8s 16ms/step - loss: 0.1674 - acc: 0.9487 - val_loss: 2.2661 - val_acc: 0.4525\n",
            "\n",
            "Epoch 00011: val_acc did not improve from 0.79850\n",
            "Epoch 12/40\n",
            "469/469 [==============================] - 8s 16ms/step - loss: 0.1652 - acc: 0.9499 - val_loss: 1.2344 - val_acc: 0.6372\n",
            "\n",
            "Epoch 00012: val_acc did not improve from 0.79850\n",
            "Epoch 13/40\n",
            "469/469 [==============================] - 8s 17ms/step - loss: 0.1644 - acc: 0.9495 - val_loss: 1.0204 - val_acc: 0.6574\n",
            "\n",
            "Epoch 00013: val_acc did not improve from 0.79850\n",
            "Epoch 14/40\n",
            "469/469 [==============================] - 8s 17ms/step - loss: 0.1626 - acc: 0.9501 - val_loss: 3.2409 - val_acc: 0.3218\n",
            "\n",
            "Epoch 00014: val_acc did not improve from 0.79850\n",
            "Epoch 15/40\n",
            "469/469 [==============================] - 8s 16ms/step - loss: 0.1642 - acc: 0.9493 - val_loss: 2.1176 - val_acc: 0.4748\n",
            "\n",
            "Epoch 00015: val_acc did not improve from 0.79850\n",
            "Epoch 16/40\n",
            "469/469 [==============================] - 8s 16ms/step - loss: 0.1651 - acc: 0.9495 - val_loss: 2.0217 - val_acc: 0.4909\n",
            "\n",
            "Epoch 00016: val_acc did not improve from 0.79850\n",
            "Epoch 17/40\n",
            "469/469 [==============================] - 8s 17ms/step - loss: 0.1654 - acc: 0.9484 - val_loss: 1.6770 - val_acc: 0.5194\n",
            "\n",
            "Epoch 00017: val_acc did not improve from 0.79850\n",
            "Epoch 18/40\n",
            "469/469 [==============================] - 8s 16ms/step - loss: 0.1619 - acc: 0.9502 - val_loss: 1.3822 - val_acc: 0.6101\n",
            "\n",
            "Epoch 00018: val_acc did not improve from 0.79850\n",
            "Epoch 19/40\n",
            "469/469 [==============================] - 7s 16ms/step - loss: 0.1635 - acc: 0.9497 - val_loss: 1.6304 - val_acc: 0.5988\n",
            "\n",
            "Epoch 00019: val_acc did not improve from 0.79850\n",
            "Epoch 20/40\n",
            "469/469 [==============================] - 8s 16ms/step - loss: 0.1604 - acc: 0.9504 - val_loss: 1.4728 - val_acc: 0.6197\n",
            "\n",
            "Epoch 00020: val_acc did not improve from 0.79850\n",
            "Epoch 21/40\n",
            "469/469 [==============================] - 8s 16ms/step - loss: 0.1615 - acc: 0.9504 - val_loss: 1.9385 - val_acc: 0.5362\n",
            "\n",
            "Epoch 00021: val_acc did not improve from 0.79850\n",
            "Epoch 22/40\n",
            "469/469 [==============================] - 8s 16ms/step - loss: 0.1614 - acc: 0.9494 - val_loss: 1.2836 - val_acc: 0.6580\n",
            "\n",
            "Epoch 00022: val_acc did not improve from 0.79850\n",
            "Epoch 23/40\n",
            "469/469 [==============================] - 8s 17ms/step - loss: 0.1597 - acc: 0.9509 - val_loss: 0.6603 - val_acc: 0.8015\n",
            "\n",
            "Epoch 00023: val_acc improved from 0.79850 to 0.80150, saving model to eva_assignment5.hdf5\n",
            "Epoch 24/40\n",
            "469/469 [==============================] - 8s 17ms/step - loss: 0.1615 - acc: 0.9493 - val_loss: 1.0364 - val_acc: 0.6918\n",
            "\n",
            "Epoch 00024: val_acc did not improve from 0.80150\n",
            "Epoch 25/40\n",
            "469/469 [==============================] - 8s 17ms/step - loss: 0.1638 - acc: 0.9493 - val_loss: 1.4737 - val_acc: 0.5774\n",
            "\n",
            "Epoch 00025: val_acc did not improve from 0.80150\n",
            "Epoch 26/40\n",
            "469/469 [==============================] - 8s 17ms/step - loss: 0.1603 - acc: 0.9501 - val_loss: 2.3536 - val_acc: 0.4615\n",
            "\n",
            "Epoch 00026: val_acc did not improve from 0.80150\n",
            "Epoch 27/40\n",
            "469/469 [==============================] - 8s 17ms/step - loss: 0.1598 - acc: 0.9516 - val_loss: 2.5638 - val_acc: 0.4834\n",
            "\n",
            "Epoch 00027: val_acc did not improve from 0.80150\n",
            "Epoch 28/40\n",
            "469/469 [==============================] - 8s 17ms/step - loss: 0.1604 - acc: 0.9493 - val_loss: 1.2099 - val_acc: 0.6641\n",
            "\n",
            "Epoch 00028: val_acc did not improve from 0.80150\n",
            "Epoch 29/40\n",
            "469/469 [==============================] - 8s 17ms/step - loss: 0.1626 - acc: 0.9498 - val_loss: 1.4377 - val_acc: 0.6043\n",
            "\n",
            "Epoch 00029: val_acc did not improve from 0.80150\n",
            "Epoch 30/40\n",
            "469/469 [==============================] - 8s 17ms/step - loss: 0.1587 - acc: 0.9497 - val_loss: 1.6655 - val_acc: 0.5820\n",
            "\n",
            "Epoch 00030: val_acc did not improve from 0.80150\n",
            "Epoch 31/40\n",
            "469/469 [==============================] - 8s 16ms/step - loss: 0.1610 - acc: 0.9506 - val_loss: 1.4465 - val_acc: 0.6232\n",
            "\n",
            "Epoch 00031: val_acc did not improve from 0.80150\n",
            "Epoch 32/40\n",
            "469/469 [==============================] - 8s 17ms/step - loss: 0.1596 - acc: 0.9490 - val_loss: 1.1982 - val_acc: 0.6698\n",
            "\n",
            "Epoch 00032: val_acc did not improve from 0.80150\n",
            "Epoch 33/40\n",
            "469/469 [==============================] - 8s 17ms/step - loss: 0.1606 - acc: 0.9505 - val_loss: 0.6813 - val_acc: 0.8001\n",
            "\n",
            "Epoch 00033: val_acc did not improve from 0.80150\n",
            "Epoch 34/40\n",
            "469/469 [==============================] - 8s 17ms/step - loss: 0.1608 - acc: 0.9500 - val_loss: 1.7684 - val_acc: 0.5415\n",
            "\n",
            "Epoch 00034: val_acc did not improve from 0.80150\n",
            "Epoch 35/40\n",
            "469/469 [==============================] - 8s 16ms/step - loss: 0.1584 - acc: 0.9506 - val_loss: 1.3551 - val_acc: 0.6606\n",
            "\n",
            "Epoch 00035: val_acc did not improve from 0.80150\n",
            "Epoch 36/40\n",
            "469/469 [==============================] - 8s 17ms/step - loss: 0.1582 - acc: 0.9503 - val_loss: 1.2399 - val_acc: 0.6397\n",
            "\n",
            "Epoch 00036: val_acc did not improve from 0.80150\n",
            "Epoch 37/40\n",
            "469/469 [==============================] - 8s 16ms/step - loss: 0.1560 - acc: 0.9502 - val_loss: 1.3333 - val_acc: 0.5909\n",
            "\n",
            "Epoch 00037: val_acc did not improve from 0.80150\n",
            "Epoch 38/40\n",
            "469/469 [==============================] - 8s 16ms/step - loss: 0.1599 - acc: 0.9503 - val_loss: 0.9454 - val_acc: 0.7240\n",
            "\n",
            "Epoch 00038: val_acc did not improve from 0.80150\n",
            "Epoch 39/40\n",
            "469/469 [==============================] - 8s 16ms/step - loss: 0.1607 - acc: 0.9497 - val_loss: 2.4163 - val_acc: 0.5039\n",
            "\n",
            "Epoch 00039: val_acc did not improve from 0.80150\n",
            "Epoch 40/40\n",
            "469/469 [==============================] - 8s 17ms/step - loss: 0.1633 - acc: 0.9479 - val_loss: 2.0162 - val_acc: 0.5517\n",
            "\n",
            "Epoch 00040: val_acc did not improve from 0.80150\n"
          ],
          "name": "stdout"
        },
        {
          "output_type": "execute_result",
          "data": {
            "text/plain": [
              "<keras.callbacks.History at 0x7f9bfc4c8898>"
            ]
          },
          "metadata": {
            "tags": []
          },
          "execution_count": 9
        }
      ]
    },
    {
      "cell_type": "code",
      "metadata": {
        "id": "WLxlW9ufyQiO",
        "colab_type": "code",
        "outputId": "c187703f-6e26-4959-af0e-80e8125ffeba",
        "colab": {
          "base_uri": "https://localhost:8080/",
          "height": 34
        }
      },
      "source": [
        "\n",
        "model.load_weights(checkpointfilepath)\n",
        "\n",
        "_, acc = model.evaluate_generator(test_iterator, steps=len(test_iterator), verbose=0)\n",
        "\n",
        "#score = model.evaluate(X_test, Y_test, verbose=0)\n",
        "print(_, acc)"
      ],
      "execution_count": 10,
      "outputs": [
        {
          "output_type": "stream",
          "text": [
            "0.09896240748763084 0.9835\n"
          ],
          "name": "stdout"
        }
      ]
    },
    {
      "cell_type": "code",
      "metadata": {
        "id": "nZ9B0ceGBr5Z",
        "colab_type": "code",
        "outputId": "1eac8611-0508-432e-cb5b-a11924923fdf",
        "colab": {
          "base_uri": "https://localhost:8080/",
          "height": 925
        }
      },
      "source": [
        "y_pred = model.predict(X_test)\n",
        "print(y_pred.shape, Y_test.shape)\n",
        "\n",
        "differences = np.argmax(y_pred, axis=1) - np.argmax(Y_test, axis=1)\n",
        "print(differences.shape, differences[:5])\n",
        "\n",
        "counter = 0\n",
        "ind = 0\n",
        "misclassified_indices = []\n",
        "for k in differences:\n",
        "  if k != 0 and counter<25:\n",
        "    misclassified_indices.append(ind)\n",
        "    counter += 1\n",
        "  ind += 1\n",
        "\n",
        "misclassified_indices = np.array(misclassified_indices)\n",
        "print(misclassified_indices.shape, misclassified_indices[:5])\n",
        "\n",
        "plt.figure(figsize = (12, 12))\n",
        "pos = [[x, y] for x in range(1,6) for y in range(1,6)]\n",
        "tmp = 1\n",
        "for l in pos:\n",
        "  l.append(tmp)\n",
        "  tmp += 1\n",
        "\n",
        "(again_xtrain, again_ytrain), (again_xtest, again_ytest) = mnist.load_data()\n",
        "pos_counter = 0\n",
        "for x in pos:\n",
        "  index = misclassified_indices[pos_counter]\n",
        "  plt.subplot(5,5,x[2])\n",
        "  plt.xlabel(\"Predicted: \"+str(np.argmax(y_pred[index])) + \", Actual: \"+str(again_ytest[index]))\n",
        "  plt.tight_layout()\n",
        "  plt.imshow(again_xtest[index])\n",
        "  pos_counter += 1"
      ],
      "execution_count": 11,
      "outputs": [
        {
          "output_type": "stream",
          "text": [
            "(10000, 10) (10000, 10)\n",
            "(10000,) [ 0 -1  0  0  0]\n",
            "(25,) [ 1  7  8 18 20]\n"
          ],
          "name": "stdout"
        },
        {
          "output_type": "display_data",
          "data": {
            "image/png": "[encoded data removed]",
            "text/plain": [
              "<Figure size 864x864 with 25 Axes>"
            ]
          },
          "metadata": {
            "tags": []
          }
        }
      ]
    },
    {
      "cell_type": "code",
      "metadata": {
        "id": "-cVyBjmFeIFP",
        "colab_type": "code",
        "outputId": "1d759531-5bc2-4803-f8ef-8c677cd70a26",
        "colab": {
          "base_uri": "https://localhost:8080/",
          "height": 34
        }
      },
      "source": [
        "print(np.argmax(y_pred[:5], axis=1), again_ytest[:5])"
      ],
      "execution_count": 12,
      "outputs": [
        {
          "output_type": "stream",
          "text": [
            "[7 1 1 0 4] [7 2 1 0 4]\n"
          ],
          "name": "stdout"
        }
      ]
    },
    {
      "cell_type": "code",
      "metadata": {
        "id": "5WlbIZfwnmFK",
        "colab_type": "code",
        "colab": {
          "base_uri": "https://localhost:8080/",
          "height": 34
        },
        "outputId": "b45d1526-df88-4d1e-fc21-425b469d48aa"
      },
      "source": [
        "print()"
      ],
      "execution_count": 13,
      "outputs": [
        {
          "output_type": "stream",
          "text": [
            "\n"
          ],
          "name": "stdout"
        }
      ]
    }
  ]
}